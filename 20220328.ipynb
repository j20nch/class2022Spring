{
  "cells": [
    {
      "cell_type": "markdown",
      "metadata": {
        "id": "view-in-github",
        "colab_type": "text"
      },
      "source": [
        "<a href=\"https://colab.research.google.com/github/j20nch/class2022Spring/blob/main/20220328.ipynb\" target=\"_parent\"><img src=\"https://colab.research.google.com/assets/colab-badge.svg\" alt=\"Open In Colab\"/></a>"
      ]
    },
    {
      "cell_type": "code",
      "execution_count": 1,
      "metadata": {
        "colab": {
          "base_uri": "https://localhost:8080/"
        },
        "id": "liwpNZoKAGFi",
        "outputId": "27b0da53-b936-4c42-fdd8-2f51f7f31029"
      },
      "outputs": [
        {
          "output_type": "stream",
          "name": "stdout",
          "text": [
            "Collecting gradio\n",
            "  Downloading gradio-2.9.1-py3-none-any.whl (1.7 MB)\n",
            "\u001b[K     |████████████████████████████████| 1.7 MB 14.7 MB/s \n",
            "\u001b[?25hCollecting markdown-it-py[linkify,plugins]\n",
            "  Downloading markdown_it_py-2.0.1-py3-none-any.whl (84 kB)\n",
            "\u001b[K     |████████████████████████████████| 84 kB 1.6 MB/s \n",
            "\u001b[?25hCollecting fastapi\n",
            "  Downloading fastapi-0.75.1-py3-none-any.whl (54 kB)\n",
            "\u001b[K     |████████████████████████████████| 54 kB 1.3 MB/s \n",
            "\u001b[?25hCollecting paramiko\n",
            "  Downloading paramiko-2.10.3-py2.py3-none-any.whl (211 kB)\n",
            "\u001b[K     |████████████████████████████████| 211 kB 48.7 MB/s \n",
            "\u001b[?25hCollecting ffmpy\n",
            "  Downloading ffmpy-0.3.0.tar.gz (4.8 kB)\n",
            "Collecting orjson\n",
            "  Downloading orjson-3.6.7-cp37-cp37m-manylinux_2_24_x86_64.whl (255 kB)\n",
            "\u001b[K     |████████████████████████████████| 255 kB 35.3 MB/s \n",
            "\u001b[?25hRequirement already satisfied: pandas in /usr/local/lib/python3.7/dist-packages (from gradio) (1.3.5)\n",
            "Requirement already satisfied: pillow in /usr/local/lib/python3.7/dist-packages (from gradio) (7.1.2)\n",
            "Collecting aiohttp\n",
            "  Downloading aiohttp-3.8.1-cp37-cp37m-manylinux_2_5_x86_64.manylinux1_x86_64.manylinux_2_12_x86_64.manylinux2010_x86_64.whl (1.1 MB)\n",
            "\u001b[K     |████████████████████████████████| 1.1 MB 34.8 MB/s \n",
            "\u001b[?25hRequirement already satisfied: numpy in /usr/local/lib/python3.7/dist-packages (from gradio) (1.21.5)\n",
            "Collecting pydub\n",
            "  Downloading pydub-0.25.1-py2.py3-none-any.whl (32 kB)\n",
            "Requirement already satisfied: matplotlib in /usr/local/lib/python3.7/dist-packages (from gradio) (3.2.2)\n",
            "Collecting pycryptodome\n",
            "  Downloading pycryptodome-3.14.1-cp35-abi3-manylinux2010_x86_64.whl (2.0 MB)\n",
            "\u001b[K     |████████████████████████████████| 2.0 MB 8.9 MB/s \n",
            "\u001b[?25hCollecting analytics-python\n",
            "  Downloading analytics_python-1.4.0-py2.py3-none-any.whl (15 kB)\n",
            "Collecting uvicorn\n",
            "  Downloading uvicorn-0.17.6-py3-none-any.whl (53 kB)\n",
            "\u001b[K     |████████████████████████████████| 53 kB 452 kB/s \n",
            "\u001b[?25hCollecting python-multipart\n",
            "  Downloading python-multipart-0.0.5.tar.gz (32 kB)\n",
            "Requirement already satisfied: requests in /usr/local/lib/python3.7/dist-packages (from gradio) (2.23.0)\n",
            "Collecting async-timeout<5.0,>=4.0.0a3\n",
            "  Downloading async_timeout-4.0.2-py3-none-any.whl (5.8 kB)\n",
            "Requirement already satisfied: charset-normalizer<3.0,>=2.0 in /usr/local/lib/python3.7/dist-packages (from aiohttp->gradio) (2.0.12)\n",
            "Requirement already satisfied: attrs>=17.3.0 in /usr/local/lib/python3.7/dist-packages (from aiohttp->gradio) (21.4.0)\n",
            "Collecting multidict<7.0,>=4.5\n",
            "  Downloading multidict-6.0.2-cp37-cp37m-manylinux_2_17_x86_64.manylinux2014_x86_64.whl (94 kB)\n",
            "\u001b[K     |████████████████████████████████| 94 kB 2.2 MB/s \n",
            "\u001b[?25hCollecting yarl<2.0,>=1.0\n",
            "  Downloading yarl-1.7.2-cp37-cp37m-manylinux_2_5_x86_64.manylinux1_x86_64.manylinux_2_12_x86_64.manylinux2010_x86_64.whl (271 kB)\n",
            "\u001b[K     |████████████████████████████████| 271 kB 41.1 MB/s \n",
            "\u001b[?25hRequirement already satisfied: typing-extensions>=3.7.4 in /usr/local/lib/python3.7/dist-packages (from aiohttp->gradio) (3.10.0.2)\n",
            "Collecting asynctest==0.13.0\n",
            "  Downloading asynctest-0.13.0-py3-none-any.whl (26 kB)\n",
            "Collecting aiosignal>=1.1.2\n",
            "  Downloading aiosignal-1.2.0-py3-none-any.whl (8.2 kB)\n",
            "Collecting frozenlist>=1.1.1\n",
            "  Downloading frozenlist-1.3.0-cp37-cp37m-manylinux_2_5_x86_64.manylinux1_x86_64.manylinux_2_17_x86_64.manylinux2014_x86_64.whl (144 kB)\n",
            "\u001b[K     |████████████████████████████████| 144 kB 59.8 MB/s \n",
            "\u001b[?25hRequirement already satisfied: idna>=2.0 in /usr/local/lib/python3.7/dist-packages (from yarl<2.0,>=1.0->aiohttp->gradio) (2.10)\n",
            "Requirement already satisfied: python-dateutil>2.1 in /usr/local/lib/python3.7/dist-packages (from analytics-python->gradio) (2.8.2)\n",
            "Collecting backoff==1.10.0\n",
            "  Downloading backoff-1.10.0-py2.py3-none-any.whl (31 kB)\n",
            "Collecting monotonic>=1.5\n",
            "  Downloading monotonic-1.6-py2.py3-none-any.whl (8.2 kB)\n",
            "Requirement already satisfied: six>=1.5 in /usr/local/lib/python3.7/dist-packages (from analytics-python->gradio) (1.15.0)\n",
            "Requirement already satisfied: chardet<4,>=3.0.2 in /usr/local/lib/python3.7/dist-packages (from requests->gradio) (3.0.4)\n",
            "Requirement already satisfied: urllib3!=1.25.0,!=1.25.1,<1.26,>=1.21.1 in /usr/local/lib/python3.7/dist-packages (from requests->gradio) (1.24.3)\n",
            "Requirement already satisfied: certifi>=2017.4.17 in /usr/local/lib/python3.7/dist-packages (from requests->gradio) (2021.10.8)\n",
            "Collecting starlette==0.17.1\n",
            "  Downloading starlette-0.17.1-py3-none-any.whl (58 kB)\n",
            "\u001b[K     |████████████████████████████████| 58 kB 5.6 MB/s \n",
            "\u001b[?25hCollecting pydantic!=1.7,!=1.7.1,!=1.7.2,!=1.7.3,!=1.8,!=1.8.1,<2.0.0,>=1.6.2\n",
            "  Downloading pydantic-1.9.0-cp37-cp37m-manylinux_2_17_x86_64.manylinux2014_x86_64.whl (10.9 MB)\n",
            "\u001b[K     |████████████████████████████████| 10.9 MB 43.0 MB/s \n",
            "\u001b[?25hCollecting anyio<4,>=3.0.0\n",
            "  Downloading anyio-3.5.0-py3-none-any.whl (79 kB)\n",
            "\u001b[K     |████████████████████████████████| 79 kB 7.0 MB/s \n",
            "\u001b[?25hCollecting sniffio>=1.1\n",
            "  Downloading sniffio-1.2.0-py3-none-any.whl (10 kB)\n",
            "Collecting mdurl~=0.1\n",
            "  Downloading mdurl-0.1.0-py3-none-any.whl (11 kB)\n",
            "Collecting mdit-py-plugins\n",
            "  Downloading mdit_py_plugins-0.3.0-py3-none-any.whl (43 kB)\n",
            "\u001b[K     |████████████████████████████████| 43 kB 1.9 MB/s \n",
            "\u001b[?25hCollecting linkify-it-py~=1.0\n",
            "  Downloading linkify_it_py-1.0.3-py3-none-any.whl (19 kB)\n",
            "Collecting uc-micro-py\n",
            "  Downloading uc_micro_py-1.0.1-py3-none-any.whl (6.2 kB)\n",
            "Requirement already satisfied: cycler>=0.10 in /usr/local/lib/python3.7/dist-packages (from matplotlib->gradio) (0.11.0)\n",
            "Requirement already satisfied: pyparsing!=2.0.4,!=2.1.2,!=2.1.6,>=2.0.1 in /usr/local/lib/python3.7/dist-packages (from matplotlib->gradio) (3.0.7)\n",
            "Requirement already satisfied: kiwisolver>=1.0.1 in /usr/local/lib/python3.7/dist-packages (from matplotlib->gradio) (1.4.0)\n",
            "Requirement already satisfied: pytz>=2017.3 in /usr/local/lib/python3.7/dist-packages (from pandas->gradio) (2018.9)\n",
            "Collecting bcrypt>=3.1.3\n",
            "  Downloading bcrypt-3.2.0-cp36-abi3-manylinux_2_17_x86_64.manylinux2014_x86_64.manylinux_2_24_x86_64.whl (61 kB)\n",
            "\u001b[K     |████████████████████████████████| 61 kB 407 kB/s \n",
            "\u001b[?25hCollecting cryptography>=2.5\n",
            "  Downloading cryptography-36.0.2-cp36-abi3-manylinux_2_24_x86_64.whl (3.6 MB)\n",
            "\u001b[K     |████████████████████████████████| 3.6 MB 46.9 MB/s \n",
            "\u001b[?25hCollecting pynacl>=1.0.1\n",
            "  Downloading PyNaCl-1.5.0-cp36-abi3-manylinux_2_17_x86_64.manylinux2014_x86_64.manylinux_2_24_x86_64.whl (856 kB)\n",
            "\u001b[K     |████████████████████████████████| 856 kB 46.6 MB/s \n",
            "\u001b[?25hRequirement already satisfied: cffi>=1.1 in /usr/local/lib/python3.7/dist-packages (from bcrypt>=3.1.3->paramiko->gradio) (1.15.0)\n",
            "Requirement already satisfied: pycparser in /usr/local/lib/python3.7/dist-packages (from cffi>=1.1->bcrypt>=3.1.3->paramiko->gradio) (2.21)\n",
            "Collecting h11>=0.8\n",
            "  Downloading h11-0.13.0-py3-none-any.whl (58 kB)\n",
            "\u001b[K     |████████████████████████████████| 58 kB 4.8 MB/s \n",
            "\u001b[?25hCollecting asgiref>=3.4.0\n",
            "  Downloading asgiref-3.5.0-py3-none-any.whl (22 kB)\n",
            "Requirement already satisfied: click>=7.0 in /usr/local/lib/python3.7/dist-packages (from uvicorn->gradio) (7.1.2)\n",
            "Building wheels for collected packages: ffmpy, python-multipart\n",
            "  Building wheel for ffmpy (setup.py) ... \u001b[?25l\u001b[?25hdone\n",
            "  Created wheel for ffmpy: filename=ffmpy-0.3.0-py3-none-any.whl size=4712 sha256=5ed25f28e4963bae4b22cac49a8e1b963bd0bddee93e78941e941e5d91dedcb2\n",
            "  Stored in directory: /root/.cache/pip/wheels/13/e4/6c/e8059816e86796a597c6e6b0d4c880630f51a1fcfa0befd5e6\n",
            "  Building wheel for python-multipart (setup.py) ... \u001b[?25l\u001b[?25hdone\n",
            "  Created wheel for python-multipart: filename=python_multipart-0.0.5-py3-none-any.whl size=31678 sha256=e7f3a33248a8ba9dbfc8c2cd3c02628c7df3d701218f3796265f1dfd0a288f08\n",
            "  Stored in directory: /root/.cache/pip/wheels/2c/41/7c/bfd1c180534ffdcc0972f78c5758f89881602175d48a8bcd2c\n",
            "Successfully built ffmpy python-multipart\n",
            "Installing collected packages: sniffio, mdurl, uc-micro-py, multidict, markdown-it-py, frozenlist, anyio, yarl, starlette, pynacl, pydantic, monotonic, mdit-py-plugins, linkify-it-py, h11, cryptography, bcrypt, backoff, asynctest, async-timeout, asgiref, aiosignal, uvicorn, python-multipart, pydub, pycryptodome, paramiko, orjson, ffmpy, fastapi, analytics-python, aiohttp, gradio\n",
            "Successfully installed aiohttp-3.8.1 aiosignal-1.2.0 analytics-python-1.4.0 anyio-3.5.0 asgiref-3.5.0 async-timeout-4.0.2 asynctest-0.13.0 backoff-1.10.0 bcrypt-3.2.0 cryptography-36.0.2 fastapi-0.75.1 ffmpy-0.3.0 frozenlist-1.3.0 gradio-2.9.1 h11-0.13.0 linkify-it-py-1.0.3 markdown-it-py-2.0.1 mdit-py-plugins-0.3.0 mdurl-0.1.0 monotonic-1.6 multidict-6.0.2 orjson-3.6.7 paramiko-2.10.3 pycryptodome-3.14.1 pydantic-1.9.0 pydub-0.25.1 pynacl-1.5.0 python-multipart-0.0.5 sniffio-1.2.0 starlette-0.17.1 uc-micro-py-1.0.1 uvicorn-0.17.6 yarl-1.7.2\n"
          ]
        }
      ],
      "source": [
        "!pip install gradio\n",
        "import gradio as gr\n",
        "import requests\n",
        "import pandas as pd"
      ]
    },
    {
      "cell_type": "code",
      "execution_count": 2,
      "metadata": {
        "id": "oZpoC7SaI3QV"
      },
      "outputs": [],
      "source": [
        "URL= ('http://data.ex.co.kr/openapi/buslane/speedDirection?key=test&type=json&collectDate=20190301&collectHour=10&numOfRows=10&pageNo=1')\n",
        "response = requests.get(URL)"
      ]
    },
    {
      "cell_type": "code",
      "execution_count": 3,
      "metadata": {
        "colab": {
          "base_uri": "https://localhost:8080/"
        },
        "id": "RuNileQvvXRe",
        "outputId": "6e621435-f1ed-4566-beab-475b5be84a70"
      },
      "outputs": [
        {
          "output_type": "execute_result",
          "data": {
            "text/plain": [
              "<Response [200]>"
            ]
          },
          "metadata": {},
          "execution_count": 3
        }
      ],
      "source": [
        "response"
      ]
    },
    {
      "cell_type": "code",
      "execution_count": 4,
      "metadata": {
        "colab": {
          "base_uri": "https://localhost:8080/"
        },
        "id": "rXY5V5_pJTSL",
        "outputId": "4765e7d3-56d2-4a5b-af55-59cd8c5345ec"
      },
      "outputs": [
        {
          "output_type": "execute_result",
          "data": {
            "text/plain": [
              "{'code': 'SUCCESS',\n",
              " 'count': 66,\n",
              " 'list': [{'avgSpeed': 90.15,\n",
              "   'collectDate': '20190301',\n",
              "   'collectHour': '10',\n",
              "   'conzoneId': '0010CZE310',\n",
              "   'conzoneName': '신탄진IC-남청주IC',\n",
              "   'laneType': '버스차로',\n",
              "   'laneTypeCode': '2',\n",
              "   'numOfRows': '',\n",
              "   'pageNo': '',\n",
              "   'pntDstnc': '',\n",
              "   'vdsId': ''},\n",
              "  {'avgSpeed': 114.29,\n",
              "   'collectDate': '20190301',\n",
              "   'collectHour': '10',\n",
              "   'conzoneId': '0010CZE320',\n",
              "   'conzoneName': '남청주IC-청주JC',\n",
              "   'laneType': '버스차로',\n",
              "   'laneTypeCode': '2',\n",
              "   'numOfRows': '',\n",
              "   'pageNo': '',\n",
              "   'pntDstnc': '',\n",
              "   'vdsId': ''},\n",
              "  {'avgSpeed': 102.04,\n",
              "   'collectDate': '20190301',\n",
              "   'collectHour': '10',\n",
              "   'conzoneId': '0010CZE330',\n",
              "   'conzoneName': '청주JC-남이JC',\n",
              "   'laneType': '버스차로',\n",
              "   'laneTypeCode': '2',\n",
              "   'numOfRows': '',\n",
              "   'pageNo': '',\n",
              "   'pntDstnc': '',\n",
              "   'vdsId': ''},\n",
              "  {'avgSpeed': 88.9,\n",
              "   'collectDate': '20190301',\n",
              "   'collectHour': '10',\n",
              "   'conzoneId': '0010CZE340',\n",
              "   'conzoneName': '남이JC-청주IC',\n",
              "   'laneType': '버스차로',\n",
              "   'laneTypeCode': '2',\n",
              "   'numOfRows': '',\n",
              "   'pageNo': '',\n",
              "   'pntDstnc': '',\n",
              "   'vdsId': ''},\n",
              "  {'avgSpeed': 100.39,\n",
              "   'collectDate': '20190301',\n",
              "   'collectHour': '10',\n",
              "   'conzoneId': '0010CZE350',\n",
              "   'conzoneName': '청주IC-옥산IC',\n",
              "   'laneType': '버스차로',\n",
              "   'laneTypeCode': '2',\n",
              "   'numOfRows': '',\n",
              "   'pageNo': '',\n",
              "   'pntDstnc': '',\n",
              "   'vdsId': ''},\n",
              "  {'avgSpeed': 102.12,\n",
              "   'collectDate': '20190301',\n",
              "   'collectHour': '10',\n",
              "   'conzoneId': '0010CZE355',\n",
              "   'conzoneName': '옥산IC-옥산JC',\n",
              "   'laneType': '버스차로',\n",
              "   'laneTypeCode': '2',\n",
              "   'numOfRows': '',\n",
              "   'pageNo': '',\n",
              "   'pntDstnc': '',\n",
              "   'vdsId': ''},\n",
              "  {'avgSpeed': 102.41,\n",
              "   'collectDate': '20190301',\n",
              "   'collectHour': '10',\n",
              "   'conzoneId': '0010CZE357',\n",
              "   'conzoneName': '옥산JC-목천IC',\n",
              "   'laneType': '버스차로',\n",
              "   'laneTypeCode': '2',\n",
              "   'numOfRows': '',\n",
              "   'pageNo': '',\n",
              "   'pntDstnc': '',\n",
              "   'vdsId': ''},\n",
              "  {'avgSpeed': 104.38,\n",
              "   'collectDate': '20190301',\n",
              "   'collectHour': '10',\n",
              "   'conzoneId': '0010CZE360',\n",
              "   'conzoneName': '목천IC-천안JC',\n",
              "   'laneType': '버스차로',\n",
              "   'laneTypeCode': '2',\n",
              "   'numOfRows': '',\n",
              "   'pageNo': '',\n",
              "   'pntDstnc': '',\n",
              "   'vdsId': ''},\n",
              "  {'avgSpeed': 106.68,\n",
              "   'collectDate': '20190301',\n",
              "   'collectHour': '10',\n",
              "   'conzoneId': '0010CZE370',\n",
              "   'conzoneName': '천안JC-천안IC',\n",
              "   'laneType': '버스차로',\n",
              "   'laneTypeCode': '2',\n",
              "   'numOfRows': '',\n",
              "   'pageNo': '',\n",
              "   'pntDstnc': '',\n",
              "   'vdsId': ''},\n",
              "  {'avgSpeed': 99.86,\n",
              "   'collectDate': '20190301',\n",
              "   'collectHour': '10',\n",
              "   'conzoneId': '0010CZE380',\n",
              "   'conzoneName': '천안IC-북천안IC',\n",
              "   'laneType': '버스차로',\n",
              "   'laneTypeCode': '2',\n",
              "   'numOfRows': '',\n",
              "   'pageNo': '',\n",
              "   'pntDstnc': '',\n",
              "   'vdsId': ''}],\n",
              " 'message': '인증키가 유효합니다.',\n",
              " 'numOfRows': 10,\n",
              " 'pageNo': 1,\n",
              " 'pageSize': 7}"
            ]
          },
          "metadata": {},
          "execution_count": 4
        }
      ],
      "source": [
        "r = response.json()\n",
        "r"
      ]
    },
    {
      "cell_type": "code",
      "execution_count": 5,
      "metadata": {
        "id": "eXPuGGZlpP6t"
      },
      "outputs": [],
      "source": [
        "items = r['list']\n",
        "\n",
        "avgSpeed = [item['avgSpeed'] for item in items]\n",
        "conzoneId = [item['conzoneId'] for item in items]\n",
        "conzoneName = [item['conzoneName'] for item in items]\n",
        "laneType = [item['laneType'] for item in items]\n",
        "\n",
        "avgSpeed = pd.Series(avgSpeed)\n",
        "conzoneId = pd.Series(conzoneId)   \n",
        "conzoneName = pd.Series(conzoneName)\n",
        "laneType = pd.Series(laneType)\n",
        "\n",
        "df = pd.DataFrame({ '평균속도(km)': avgSpeed, '콘존ID': conzoneId, '콘존이름': conzoneName, '차로종류': laneType})"
      ]
    },
    {
      "cell_type": "code",
      "execution_count": 6,
      "metadata": {
        "id": "lfj0xupgn8EV"
      },
      "outputs": [],
      "source": [
        "def changhyun(collectDate) :\n",
        "  URL = ('http://data.ex.co.kr/openapi/buslane/speedDirection?key=test&type=json&collectDate='+collectDate+'&collectHour=10&numOfRows=10&pageNo=1')\n",
        "  response = requests.get(URL)\n",
        "  r=response.json()\n",
        "\n",
        "  items = r['list']\n",
        "\n",
        "  avgSpeed = [item['avgSpeed'] for item in items]\n",
        "  conzoneId = [item['conzoneId'] for item in items]\n",
        "  conzoneName = [item['conzoneName'] for item in items]\n",
        "  laneType = [item['laneType'] for item in items]\n",
        "\n",
        "  avgSpeed = pd.Series(avgSpeed)\n",
        "  conzoneId = pd.Series(conzoneId)   \n",
        "  conzoneName = pd.Series(conzoneName)\n",
        "  laneType = pd.Series(laneType)\n",
        "\n",
        "  df = pd.DataFrame({ '평균속도(km)': avgSpeed, '콘존ID': conzoneId, '콘존이름': conzoneName, '차로종류': laneType})\n",
        "  return df"
      ]
    },
    {
      "cell_type": "code",
      "execution_count": null,
      "metadata": {
        "colab": {
          "background_save": true,
          "base_uri": "https://localhost:8080/",
          "height": 594
        },
        "id": "yktzLvc9WQxn",
        "outputId": "f6c7aa66-fb22-4360-8f98-2ce67f1be1e2"
      },
      "outputs": [
        {
          "output_type": "stream",
          "name": "stdout",
          "text": [
            "Colab notebook detected. This cell will run indefinitely so that you can see errors and logs. To turn off, set debug=False in launch().\n",
            "Running on public URL: https://32591.gradio.app\n",
            "\n",
            "This share link expires in 72 hours. For free permanent hosting, check out Spaces (https://huggingface.co/spaces)\n"
          ]
        },
        {
          "output_type": "display_data",
          "data": {
            "text/plain": [
              "<IPython.lib.display.IFrame at 0x7fc95be74a10>"
            ],
            "text/html": [
              "\n",
              "        <iframe\n",
              "            width=\"900\"\n",
              "            height=\"500\"\n",
              "            src=\"https://32591.gradio.app\"\n",
              "            frameborder=\"0\"\n",
              "            allowfullscreen\n",
              "        ></iframe>\n",
              "        "
            ]
          },
          "metadata": {}
        }
      ],
      "source": [
        "iface = gr.Interface(changhyun, gr.inputs.Dropdown(['20190301', '20190401', '20190501', '20190601', '20190701', '20190801', '20190901', '20191001', '20191101', '20191201']), outputs=['dataframe'])\n",
        "iface.launch(debug=True)"
      ]
    }
  ],
  "metadata": {
    "colab": {
      "name": "20220328.ipynb",
      "provenance": [],
      "authorship_tag": "ABX9TyMqzDdSCSETLaJKUDSh5ggt",
      "include_colab_link": true
    },
    "kernelspec": {
      "display_name": "Python 3",
      "name": "python3"
    },
    "language_info": {
      "name": "python"
    }
  },
  "nbformat": 4,
  "nbformat_minor": 0
}