{
  "nbformat": 4,
  "nbformat_minor": 0,
  "metadata": {
    "colab": {
      "name": "20220316.ipynb",
      "provenance": [],
      "collapsed_sections": [],
      "authorship_tag": "ABX9TyOAeZZJBMYT4IZ8Fw701QhT",
      "include_colab_link": true
    },
    "kernelspec": {
      "name": "python3",
      "display_name": "Python 3"
    },
    "language_info": {
      "name": "python"
    }
  },
  "cells": [
    {
      "cell_type": "markdown",
      "metadata": {
        "id": "view-in-github",
        "colab_type": "text"
      },
      "source": [
        "<a href=\"https://colab.research.google.com/github/j20nch/class2022Spring/blob/main/20220316.ipynb\" target=\"_parent\"><img src=\"https://colab.research.google.com/assets/colab-badge.svg\" alt=\"Open In Colab\"/></a>"
      ]
    },
    {
      "cell_type": "code",
      "execution_count": null,
      "metadata": {
        "colab": {
          "base_uri": "https://localhost:8080/",
          "height": 174
        },
        "id": "QRXbPl6NS9a0",
        "outputId": "7a183b95-2435-4073-8def-3b05550ab353"
      },
      "outputs": [
        {
          "output_type": "error",
          "ename": "NameError",
          "evalue": "ignored",
          "traceback": [
            "\u001b[0;31m---------------------------------------------------------------------------\u001b[0m",
            "\u001b[0;31mNameError\u001b[0m                                 Traceback (most recent call last)",
            "\u001b[0;32m<ipython-input-1-54fe97bd6546>\u001b[0m in \u001b[0;36m<module>\u001b[0;34m()\u001b[0m\n\u001b[0;32m----> 1\u001b[0;31m \u001b[0mvariables\u001b[0m\u001b[0;34m\u001b[0m\u001b[0;34m\u001b[0m\u001b[0m\n\u001b[0m",
            "\u001b[0;31mNameError\u001b[0m: name 'variables' is not defined"
          ]
        }
      ],
      "source": [
        "variables"
      ]
    },
    {
      "cell_type": "markdown",
      "source": [
        "아래 코드부터는 변수의 예시에 대한 설명이다. variables만 입력한 경우에는 'variables' 자체가 따로 colab 내부에서 정의된 바가 없기에 오류가 뜬다. 위 입력값은 영역별 구분점을 만들기 위해 작성하였다."
      ],
      "metadata": {
        "id": "Q--LsBElTKjU"
      }
    },
    {
      "cell_type": "code",
      "source": [
        "a=1\n",
        "print(a)\n",
        "print(type(a))"
      ],
      "metadata": {
        "colab": {
          "base_uri": "https://localhost:8080/"
        },
        "id": "K4XW4uTGTWpY",
        "outputId": "1bfa59a8-3610-43fa-fb40-82e08b5e3a5a"
      },
      "execution_count": null,
      "outputs": [
        {
          "output_type": "stream",
          "name": "stdout",
          "text": [
            "1\n",
            "<class 'int'>\n"
          ]
        }
      ]
    },
    {
      "cell_type": "markdown",
      "source": [
        "a는 소수점 없는 숫자를 assign받았다. 따라서 a의 type은 int이며, 이를 확인하려면 print(type(a))를 작성하면 된다. print(a)를 했을 경우 assign받은 1을 출력한다. 유형을 확인하는 또 다른 방법은 왼쪽의 {x}를 눌러보는 것이다."
      ],
      "metadata": {
        "id": "ansfuREhTyx5"
      }
    },
    {
      "cell_type": "code",
      "source": [
        "b=1.1\n",
        "c=1.0\n",
        "print(b)\n",
        "print(type(c))"
      ],
      "metadata": {
        "colab": {
          "base_uri": "https://localhost:8080/"
        },
        "id": "rfokd4WhT-4N",
        "outputId": "4d98a8ff-1f1a-40cf-cd66-c48641ad607c"
      },
      "execution_count": null,
      "outputs": [
        {
          "output_type": "stream",
          "name": "stdout",
          "text": [
            "1.1\n",
            "<class 'float'>\n"
          ]
        }
      ]
    },
    {
      "cell_type": "markdown",
      "source": [
        "b와 c 모두 소수점 있는 숫자를 assign받았다. 따라서 b와 c의 type은 모두 float이다. 이때, c는 겉으로 보기에는 정수처럼 보이기에 int가 아니냐고 생각할 수 있지만, c에 할당한 숫자 자체에 소수점이 포함되어 있기 때문에 float로 판단해야 한다."
      ],
      "metadata": {
        "id": "ocsL5hgbUjTE"
      }
    },
    {
      "cell_type": "code",
      "source": [
        "d='123'\n",
        "print(d)"
      ],
      "metadata": {
        "colab": {
          "base_uri": "https://localhost:8080/"
        },
        "id": "O-hVKm7mU_NM",
        "outputId": "7a0dbde3-7d80-4cf3-cd40-6917a1bf6980"
      },
      "execution_count": null,
      "outputs": [
        {
          "output_type": "stream",
          "name": "stdout",
          "text": [
            "123\n"
          ]
        }
      ]
    },
    {
      "cell_type": "markdown",
      "source": [
        "d를 출력했을 때 겉으로 보기에는 소수점 없는 int이지만, quotation mark를 붙임으로써 3개의 글자로 구성된 str에 해당한다. 이는 문자로 봐야 한다."
      ],
      "metadata": {
        "id": "ZQrY-I1zVk3p"
      }
    },
    {
      "cell_type": "code",
      "source": [
        "e=[1,'2',[3,4]]\n",
        "print(type(e))"
      ],
      "metadata": {
        "colab": {
          "base_uri": "https://localhost:8080/"
        },
        "id": "BMN_g08AVkSM",
        "outputId": "c5dca78c-6284-4ee8-8e1b-4520b4fdc485"
      },
      "execution_count": null,
      "outputs": [
        {
          "output_type": "stream",
          "name": "stdout",
          "text": [
            "<class 'list'>\n"
          ]
        }
      ]
    },
    {
      "cell_type": "markdown",
      "source": [
        "list의 경우에는 내부 item의 수에 주목할 필요가 있다. 언뜻 보면 4개의 item이 들어있는 것 같지만, 3과 4는 또 다른 list로 묶여 있어 1개의 item으로 처리되고, int 1개, string 1개, list 1개, 총 3개의 items로 구성된 list라 할 수 있다."
      ],
      "metadata": {
        "id": "nwOTyvvoW4XN"
      }
    },
    {
      "cell_type": "code",
      "source": [
        "f=[1,2,3,4]\n",
        "print(f[0])\n",
        "print(f[:])\n",
        "print(f[1:])\n",
        "f[0:-1]"
      ],
      "metadata": {
        "colab": {
          "base_uri": "https://localhost:8080/"
        },
        "id": "GzlJvG89XKRP",
        "outputId": "d72c6370-85e7-4497-aaf7-2f9659a55ad0"
      },
      "execution_count": null,
      "outputs": [
        {
          "output_type": "stream",
          "name": "stdout",
          "text": [
            "1\n",
            "[1, 2, 3, 4]\n",
            "[2, 3, 4]\n"
          ]
        },
        {
          "output_type": "execute_result",
          "data": {
            "text/plain": [
              "[1, 2, 3]"
            ]
          },
          "metadata": {},
          "execution_count": 12
        }
      ]
    },
    {
      "cell_type": "markdown",
      "source": [
        "f는 4개의 item으로 구성된 list이다. list에서 순서를 헤아릴 때는 0부터 시작한다. 따라서 print(f[0])을 가동하면 f의 첫번째 item인 1이 도출된다. :(colon)만 찍으면 전체 item이 다 도출되도록 하는 것이다. f[1:]을 사용하면, f의 두번째 item인 2부터 끝까지 모든 아이템이 나오게 된다. 마지막으로, f[-1]은, 쉽게 생각하면 0보다 한 단계 더 앞에 있는 것이기 때문에 다시 거슬러서 맨 뒤에 있는 item인 4이다. 따라서 f[0:-1]은 1,2,3의 item이 포함된 list가 나온다.\n",
        "\n",
        "*제일 마지막 줄은 print를 하지 않아도 print를 한 것과 동일한 효과가 나타난다. "
      ],
      "metadata": {
        "id": "kyM8VkCbX8kW"
      }
    },
    {
      "cell_type": "code",
      "source": [
        "g=[0,[1,'s'],'3']\n",
        "print(g[1][1])\n",
        "print(g[2][0])"
      ],
      "metadata": {
        "colab": {
          "base_uri": "https://localhost:8080/"
        },
        "id": "5aJNY6ryacwK",
        "outputId": "19573b62-2b35-42f4-bade-5e8f194030ae"
      },
      "execution_count": null,
      "outputs": [
        {
          "output_type": "stream",
          "name": "stdout",
          "text": [
            "s\n",
            "3\n"
          ]
        }
      ]
    },
    {
      "cell_type": "markdown",
      "source": [
        ""
      ],
      "metadata": {
        "id": "UbYrntGCbRVl"
      }
    },
    {
      "cell_type": "markdown",
      "source": [
        "print(g[1][1])이 의미하는 것은, g의 list중 두번째 항목인 [1,'s']의 두번째 항목인 's'를 출력하는 것이다. 이와 마찬가지로 g[2][0]은 g의 list중 세번째 항목인 '3'의 첫번째 항목인 '3'을 출력하는 것이다."
      ],
      "metadata": {
        "id": "Ju9lq-EjbVll"
      }
    },
    {
      "cell_type": "code",
      "source": [
        "print(g[2][1])"
      ],
      "metadata": {
        "colab": {
          "base_uri": "https://localhost:8080/",
          "height": 174
        },
        "id": "Nx2_IaRmbQkp",
        "outputId": "07848e61-28e0-4ea9-be99-2d1f04dc45ac"
      },
      "execution_count": null,
      "outputs": [
        {
          "output_type": "error",
          "ename": "IndexError",
          "evalue": "ignored",
          "traceback": [
            "\u001b[0;31m---------------------------------------------------------------------------\u001b[0m",
            "\u001b[0;31mIndexError\u001b[0m                                Traceback (most recent call last)",
            "\u001b[0;32m<ipython-input-16-3b20baaa322b>\u001b[0m in \u001b[0;36m<module>\u001b[0;34m()\u001b[0m\n\u001b[0;32m----> 1\u001b[0;31m \u001b[0mprint\u001b[0m\u001b[0;34m(\u001b[0m\u001b[0mg\u001b[0m\u001b[0;34m[\u001b[0m\u001b[0;36m2\u001b[0m\u001b[0;34m]\u001b[0m\u001b[0;34m[\u001b[0m\u001b[0;36m1\u001b[0m\u001b[0;34m]\u001b[0m\u001b[0;34m)\u001b[0m\u001b[0;34m\u001b[0m\u001b[0;34m\u001b[0m\u001b[0m\n\u001b[0m",
            "\u001b[0;31mIndexError\u001b[0m: string index out of range"
          ]
        }
      ]
    },
    {
      "cell_type": "markdown",
      "source": [
        "g의 list중 세번째 항목은 str이며, 1개의 item으로 구성되어 있다. 따라서 g[2][1]은 존재하지 않기에 오류가 나온다."
      ],
      "metadata": {
        "id": "uj45ln98bw_k"
      }
    },
    {
      "cell_type": "markdown",
      "source": [
        "위 세 코드는 모두 list indexing에 관한 설명이며, str을 일부 access할 때의 과정과 동일하다고 생각하면 된다."
      ],
      "metadata": {
        "id": "EPa_MGjfb3SG"
      }
    },
    {
      "cell_type": "code",
      "source": [
        "h=(100,200,'a')\n",
        "print(h[0]+h[1])\n",
        "h[0]=1"
      ],
      "metadata": {
        "colab": {
          "base_uri": "https://localhost:8080/",
          "height": 229
        },
        "id": "-6UoPDCOcn7I",
        "outputId": "18bebd95-b309-43a5-8864-451fcccb585d"
      },
      "execution_count": null,
      "outputs": [
        {
          "output_type": "stream",
          "name": "stdout",
          "text": [
            "300\n"
          ]
        },
        {
          "output_type": "error",
          "ename": "TypeError",
          "evalue": "ignored",
          "traceback": [
            "\u001b[0;31m---------------------------------------------------------------------------\u001b[0m",
            "\u001b[0;31mTypeError\u001b[0m                                 Traceback (most recent call last)",
            "\u001b[0;32m<ipython-input-22-e3ec52faa523>\u001b[0m in \u001b[0;36m<module>\u001b[0;34m()\u001b[0m\n\u001b[1;32m      1\u001b[0m \u001b[0mh\u001b[0m\u001b[0;34m=\u001b[0m\u001b[0;34m(\u001b[0m\u001b[0;36m100\u001b[0m\u001b[0;34m,\u001b[0m\u001b[0;36m200\u001b[0m\u001b[0;34m,\u001b[0m\u001b[0;34m'a'\u001b[0m\u001b[0;34m)\u001b[0m\u001b[0;34m\u001b[0m\u001b[0;34m\u001b[0m\u001b[0m\n\u001b[1;32m      2\u001b[0m \u001b[0mprint\u001b[0m\u001b[0;34m(\u001b[0m\u001b[0mh\u001b[0m\u001b[0;34m[\u001b[0m\u001b[0;36m0\u001b[0m\u001b[0;34m]\u001b[0m\u001b[0;34m+\u001b[0m\u001b[0mh\u001b[0m\u001b[0;34m[\u001b[0m\u001b[0;36m1\u001b[0m\u001b[0;34m]\u001b[0m\u001b[0;34m)\u001b[0m\u001b[0;34m\u001b[0m\u001b[0;34m\u001b[0m\u001b[0m\n\u001b[0;32m----> 3\u001b[0;31m \u001b[0mh\u001b[0m\u001b[0;34m[\u001b[0m\u001b[0;36m0\u001b[0m\u001b[0;34m]\u001b[0m\u001b[0;34m=\u001b[0m\u001b[0;36m1\u001b[0m\u001b[0;34m\u001b[0m\u001b[0;34m\u001b[0m\u001b[0m\n\u001b[0m",
            "\u001b[0;31mTypeError\u001b[0m: 'tuple' object does not support item assignment"
          ]
        }
      ]
    },
    {
      "cell_type": "markdown",
      "source": [
        "tuple은 list의 대괄호 대신 소괄호를 쓴 경우이다. 이때 가장 큰 차이점은, tuple은 item을 assign해서 tuple 내의 정보를 바꿀 수 없다는 점이다. 가장 마지막 줄을 보면, tuple 내부의 첫번째 item인 100을 1로 바꾸려 시도한 과정이 드러나지만 오류가 발생한다. 따라서 tuple은 list보다 security가 강화된 유형이라 생각할 수 있다."
      ],
      "metadata": {
        "id": "S6D5Pv7rdn7k"
      }
    },
    {
      "cell_type": "code",
      "source": [
        "i={'aa':120,'ba':240,'bb':4}\n",
        "print(i['aa'])"
      ],
      "metadata": {
        "colab": {
          "base_uri": "https://localhost:8080/"
        },
        "id": "saf-gCvodnEo",
        "outputId": "d60c39c6-241b-4b35-8b2f-45f427c301a1"
      },
      "execution_count": null,
      "outputs": [
        {
          "output_type": "stream",
          "name": "stdout",
          "text": [
            "120\n"
          ]
        }
      ]
    },
    {
      "cell_type": "markdown",
      "source": [
        "dict는 중괄호를 사용하는데, colon을 기준으로 왼쪽은 key, 오른쪽은 value로 구성된다."
      ],
      "metadata": {
        "id": "5s83bM-2fSP_"
      }
    },
    {
      "cell_type": "code",
      "source": [
        "j='apple'\n",
        "print(j.upper())\n",
        "print(len(j))\n",
        "print(s[0]+s[2]*2)"
      ],
      "metadata": {
        "colab": {
          "base_uri": "https://localhost:8080/"
        },
        "id": "64L53W7goiow",
        "outputId": "51d007fe-f14d-4b1b-8c1e-728a0dfb4ed0"
      },
      "execution_count": 3,
      "outputs": [
        {
          "output_type": "stream",
          "name": "stdout",
          "text": [
            "APPLE\n",
            "5\n",
            "app\n"
          ]
        }
      ]
    },
    {
      "cell_type": "markdown",
      "source": [
        "직관적으로 이해 가능한 부분(upper:대문자, len:문자길이)"
      ],
      "metadata": {
        "id": "5tSs_eeOqSVq"
      }
    },
    {
      "cell_type": "code",
      "source": [
        "k=' I am living in Korea.'\n",
        "k"
      ],
      "metadata": {
        "colab": {
          "base_uri": "https://localhost:8080/",
          "height": 35
        },
        "id": "tjIr956Uo_j3",
        "outputId": "b791858a-7ce6-478e-af13-a8b0a1db7842"
      },
      "execution_count": 12,
      "outputs": [
        {
          "output_type": "execute_result",
          "data": {
            "text/plain": [
              "' I am living in Korea.'"
            ],
            "application/vnd.google.colaboratory.intrinsic+json": {
              "type": "string"
            }
          },
          "metadata": {},
          "execution_count": 12
        }
      ]
    },
    {
      "cell_type": "code",
      "source": [
        "k=k.strip()\n",
        "print(k)\n",
        "print(k.split(' '))"
      ],
      "metadata": {
        "colab": {
          "base_uri": "https://localhost:8080/"
        },
        "id": "PeusDYaEpH0K",
        "outputId": "fc8a8f71-7cd5-4664-d222-a4b7fd08d27c"
      },
      "execution_count": 15,
      "outputs": [
        {
          "output_type": "stream",
          "name": "stdout",
          "text": [
            "I am living in Korea.\n",
            "['I', 'am', 'living', 'in', 'Korea.']\n"
          ]
        }
      ]
    },
    {
      "cell_type": "markdown",
      "source": [
        "strip은 whitespace를 지우는 역할을 수행하고, split은 지정한 내용을 중심으로 쪼개서 리스트를 구성하는 것이다. 위 예시에서는 space를 기준으로 구분지었다."
      ],
      "metadata": {
        "id": "gLno_ZHPpzxf"
      }
    },
    {
      "cell_type": "code",
      "source": [
        "k=' '.join(k.split(' '))\n",
        "k"
      ],
      "metadata": {
        "colab": {
          "base_uri": "https://localhost:8080/",
          "height": 35
        },
        "id": "RzafiX0jqGkB",
        "outputId": "74fdfecc-aa65-48bb-9884-c916e9052487"
      },
      "execution_count": 24,
      "outputs": [
        {
          "output_type": "execute_result",
          "data": {
            "text/plain": [
              "'I am living in Korea.'"
            ],
            "application/vnd.google.colaboratory.intrinsic+json": {
              "type": "string"
            }
          },
          "metadata": {},
          "execution_count": 24
        }
      ]
    },
    {
      "cell_type": "markdown",
      "source": [
        "space를 기준으로 쪼개진 단어들이 join을 통해 재결합되었다."
      ],
      "metadata": {
        "id": "lxUQYetNqs9d"
      }
    },
    {
      "cell_type": "code",
      "source": [
        "k=k.replace('am','was')\n",
        "k"
      ],
      "metadata": {
        "colab": {
          "base_uri": "https://localhost:8080/",
          "height": 35
        },
        "id": "-ipH44pSq6Nc",
        "outputId": "00818cd2-8218-46cd-f591-033e014094c2"
      },
      "execution_count": 27,
      "outputs": [
        {
          "output_type": "execute_result",
          "data": {
            "text/plain": [
              "'I was living in Korea.'"
            ],
            "application/vnd.google.colaboratory.intrinsic+json": {
              "type": "string"
            }
          },
          "metadata": {},
          "execution_count": 27
        }
      ]
    },
    {
      "cell_type": "markdown",
      "source": [
        "마찬가지로 직관적으로 이해 가능한 부분 (replace: 특정 어휘 대체)"
      ],
      "metadata": {
        "id": "kqRAHCForBY6"
      }
    },
    {
      "cell_type": "code",
      "source": [
        "function"
      ],
      "metadata": {
        "id": "WXelaWMdrHcN"
      },
      "execution_count": null,
      "outputs": []
    },
    {
      "cell_type": "code",
      "source": [
        "def changhyun (x,y):\n",
        "  return x*10+y*5"
      ],
      "metadata": {
        "id": "tN4x97fsrIon"
      },
      "execution_count": 34,
      "outputs": []
    },
    {
      "cell_type": "markdown",
      "source": [
        "함수를 정의하는 과정이다. def 함수이름 (입력변수):를 윗줄에, indent하고 return 출력변수를 아랫줄에 기록하면 된다."
      ],
      "metadata": {
        "id": "jdJA8ri9rZ2w"
      }
    },
    {
      "cell_type": "code",
      "source": [
        " changhyun(8,1)"
      ],
      "metadata": {
        "colab": {
          "base_uri": "https://localhost:8080/"
        },
        "id": "c0w_pcnvrIg3",
        "outputId": "b0e32290-b759-4146-80ba-c9a69567cb95"
      },
      "execution_count": 69,
      "outputs": [
        {
          "output_type": "execute_result",
          "data": {
            "text/plain": [
              "85"
            ]
          },
          "metadata": {},
          "execution_count": 69
        }
      ]
    },
    {
      "cell_type": "markdown",
      "source": [
        "*추가: print, len 등 built-in 함수명과 동일하게 제작도 가능하지만 충돌 발생 우려로 지양하기."
      ],
      "metadata": {
        "id": "eo7mbDmxr1Lf"
      }
    },
    {
      "cell_type": "code",
      "source": [
        "syntax"
      ],
      "metadata": {
        "id": "fgbITTrtrlLd"
      },
      "execution_count": null,
      "outputs": []
    },
    {
      "cell_type": "code",
      "source": [
        "m=['a','b','x','y']\n",
        "for n in m :\n",
        "  print(n)"
      ],
      "metadata": {
        "colab": {
          "base_uri": "https://localhost:8080/"
        },
        "id": "uPs379pisIPU",
        "outputId": "d65ee317-bb86-4707-cf2f-f04db0f98fd5"
      },
      "execution_count": 36,
      "outputs": [
        {
          "output_type": "stream",
          "name": "stdout",
          "text": [
            "a\n",
            "b\n",
            "x\n",
            "y\n"
          ]
        }
      ]
    },
    {
      "cell_type": "markdown",
      "source": [
        "반복문 for의 기본 구조는 for in :이다. 이러한 구조를 for-loop라고도 하는데, 위 예시에서는 리스트인 m에 있는 것을 n으로 하나씩 받아 m의 갯수만큼 도출한다는 의미라 할 수 있다."
      ],
      "metadata": {
        "id": "RQ10vfi-sv8F"
      }
    },
    {
      "cell_type": "code",
      "source": [
        "for n in range(len(m)):\n",
        "  print(m[n])"
      ],
      "metadata": {
        "colab": {
          "base_uri": "https://localhost:8080/"
        },
        "id": "oUF9xSj2s9zZ",
        "outputId": "1d2a8307-a97e-4eaa-bba8-943cc6902d5a"
      },
      "execution_count": 39,
      "outputs": [
        {
          "output_type": "stream",
          "name": "stdout",
          "text": [
            "a\n",
            "b\n",
            "x\n",
            "y\n"
          ]
        }
      ]
    },
    {
      "cell_type": "markdown",
      "source": [
        "range는 주로 for과 함께 쓰이며, 나름의 list가 만들어지는 것이라 할 수 있다. 예를 들어 range(4)라 한다면, [0, 1, 2, 3]의 리스트가 구성된다. 자연스레 m의 0번째, m의 1번째 ...가 도출되며, 위 코드와 동일한 결과가 나타난다."
      ],
      "metadata": {
        "id": "v4Ex4RrxtQCa"
      }
    },
    {
      "cell_type": "code",
      "source": [
        "o=120\n",
        "if o==100:\n",
        "  print(o)\n",
        "else:\n",
        "  print(o-20)"
      ],
      "metadata": {
        "colab": {
          "base_uri": "https://localhost:8080/"
        },
        "id": "rbIIsJtvtdkl",
        "outputId": "dcc8406d-dd3b-4840-9fa0-0ffeb3ceedce"
      },
      "execution_count": 41,
      "outputs": [
        {
          "output_type": "stream",
          "name": "stdout",
          "text": [
            "100\n"
          ]
        }
      ]
    },
    {
      "cell_type": "markdown",
      "source": [
        "또 다른 syntax 중 하나인 if는 조건문이다. else의 사용은 선택적이며, 위 경우에는 o가 100이 아니기 때문에, else이하의 식을 적용하여 120-20인 100이 결과값으로 도출되었다."
      ],
      "metadata": {
        "id": "7qiuFuNBtzRf"
      }
    },
    {
      "cell_type": "code",
      "source": [
        "p=['Korea','Japan','China','America']\n",
        "q=[i for i in p if len(i)==5]\n",
        "print(q)"
      ],
      "metadata": {
        "colab": {
          "base_uri": "https://localhost:8080/"
        },
        "id": "I1yKs28juR5A",
        "outputId": "64f33fad-d149-46d6-c57e-bd3db888a9cb"
      },
      "execution_count": 68,
      "outputs": [
        {
          "output_type": "stream",
          "name": "stdout",
          "text": [
            "['Korea', 'Japan', 'China']\n"
          ]
        }
      ]
    },
    {
      "cell_type": "code",
      "source": [
        "a=['red','orange','yellow','purple','green']\n",
        "b=['','apple','orange','banana','grape']\n",
        "c={a[i]:b[i+1] for i in range(4)}\n",
        "c"
      ],
      "metadata": {
        "colab": {
          "base_uri": "https://localhost:8080/"
        },
        "id": "IryK08SpvqhQ",
        "outputId": "1f448f3f-a9f2-43e7-8de6-283ae563a868"
      },
      "execution_count": 51,
      "outputs": [
        {
          "output_type": "execute_result",
          "data": {
            "text/plain": [
              "{'orange': 'orange', 'purple': 'grape', 'red': 'apple', 'yellow': 'banana'}"
            ]
          },
          "metadata": {},
          "execution_count": 51
        }
      ]
    },
    {
      "cell_type": "markdown",
      "source": [
        "이는 dict comprehension의 예이다. a와 b를 pair로 시켜 일종의 dictionary가 만들어지는 것이다."
      ],
      "metadata": {
        "id": "0OBx6sLywMj7"
      }
    },
    {
      "cell_type": "code",
      "source": [
        "import numpy as np"
      ],
      "metadata": {
        "id": "lRVVfCbXwU_M"
      },
      "execution_count": 52,
      "outputs": []
    },
    {
      "cell_type": "code",
      "source": [
        "n=np.random.randn(300)"
      ],
      "metadata": {
        "id": "OE69Ry6BwmPj"
      },
      "execution_count": 66,
      "outputs": []
    },
    {
      "cell_type": "code",
      "source": [
        "import matplotlib.pyplot as plt\n",
        "plt.hist(n)"
      ],
      "metadata": {
        "colab": {
          "base_uri": "https://localhost:8080/",
          "height": 357
        },
        "id": "qHfoIfBhwq_u",
        "outputId": "3f8a3550-beb8-47a9-de46-32fc7c56c12a"
      },
      "execution_count": 67,
      "outputs": [
        {
          "output_type": "execute_result",
          "data": {
            "text/plain": [
              "(array([ 2.,  8., 24., 46., 88., 58., 50., 14.,  5.,  5.]),\n",
              " array([-3.09693985, -2.46759726, -1.83825467, -1.20891208, -0.57956949,\n",
              "         0.04977309,  0.67911568,  1.30845827,  1.93780086,  2.56714345,\n",
              "         3.19648604]),\n",
              " <a list of 10 Patch objects>)"
            ]
          },
          "metadata": {},
          "execution_count": 67
        },
        {
          "output_type": "display_data",
          "data": {
            "text/plain": [
              "<Figure size 432x288 with 1 Axes>"
            ],
            "image/png": "[encoded data removed]"
          },
          "metadata": {
            "needs_background": "light"
          }
        }
      ]
    },
    {
      "cell_type": "markdown",
      "source": [
        "numpy를 통해 난수 300개를 생성하고, matplotlib.pyplot.hist를 통해 히스토그램으로 난수의 분포를 확인할 수 있다. 이때 축약형을 쓰기 위해 import as를 사용했지만, from import 또한 축약의 효과가 있다. (from matplotlib import pyplot / pyplot.hist(n))"
      ],
      "metadata": {
        "id": "ovbr2Gawxpaz"
      }
    },
    {
      "cell_type": "code",
      "source": [
        "x=np.array([1,2,3,4,5,6])\n",
        "print(x)\n",
        "print(type(x))\n",
        "print(x.shape)"
      ],
      "metadata": {
        "colab": {
          "base_uri": "https://localhost:8080/"
        },
        "id": "lXVaE4y6x_fr",
        "outputId": "3860171f-f697-44e1-8006-b7092778aea0"
      },
      "execution_count": 70,
      "outputs": [
        {
          "output_type": "stream",
          "name": "stdout",
          "text": [
            "[1 2 3 4 5 6]\n",
            "<class 'numpy.ndarray'>\n",
            "(6,)\n"
          ]
        }
      ]
    },
    {
      "cell_type": "markdown",
      "source": [
        "이 경우는 1d array이다. 한 줄에 6개의 item이 들어있음을 print(x.shape)를 통해 확인할 수 있다."
      ],
      "metadata": {
        "id": "RqkSeqGly2ts"
      }
    },
    {
      "cell_type": "code",
      "source": [
        "x=np.arange(0,77,11)\n",
        "print(x)\n",
        "print(type(x))\n",
        "print(x.shape)"
      ],
      "metadata": {
        "colab": {
          "base_uri": "https://localhost:8080/"
        },
        "id": "cziMQEyly-Kv",
        "outputId": "1266ea90-8b12-4c42-861f-9e51c6a41919"
      },
      "execution_count": 72,
      "outputs": [
        {
          "output_type": "stream",
          "name": "stdout",
          "text": [
            "[ 0 11 22 33 44 55 66]\n",
            "<class 'numpy.ndarray'>\n",
            "(7,)\n"
          ]
        }
      ]
    },
    {
      "cell_type": "markdown",
      "source": [
        "arange의 경우 세가지 항목으로 이루어진다. 첫번째 0이 들어간 곳은 시작점, 두번째 77이 들어간 곳은 끝점이다. 이때 77은 결과값에 포함되지 않는다. 마지막은 increment를 의미하며, 0부터 시작해서 11씩 증가하는 숫자를 array에 포함하면 된다. 이때 77은 포함되지 않는다."
      ],
      "metadata": {
        "id": "C8oFZhgWzIte"
      }
    },
    {
      "cell_type": "code",
      "source": [
        "x=np.linspace(0,50,11)\n",
        "print(x)\n",
        "print(type(x))\n",
        "print(x.shape)"
      ],
      "metadata": {
        "colab": {
          "base_uri": "https://localhost:8080/"
        },
        "id": "EraXmCnTzVIv",
        "outputId": "564dfbe8-cfe8-4519-9e72-10e27428f6e4"
      },
      "execution_count": 75,
      "outputs": [
        {
          "output_type": "stream",
          "name": "stdout",
          "text": [
            "[ 0.  5. 10. 15. 20. 25. 30. 35. 40. 45. 50.]\n",
            "<class 'numpy.ndarray'>\n",
            "(11,)\n"
          ]
        }
      ]
    },
    {
      "cell_type": "markdown",
      "source": [
        "arange와 다르게 linspace는 두번째에 들어간 50도 포함한다. 마지막에 들어간 숫자 11은 총 만들어야 하는 숫자의 갯수이다. 즉, 1d array 안에 item이 11개가 들어가야 한다는 것이다."
      ],
      "metadata": {
        "id": "zSYnalLszjJG"
      }
    },
    {
      "cell_type": "code",
      "source": [
        "x=np.array([[1,2,3],[4,5,6]])\n",
        "print(x)\n",
        "print(type(x))\n",
        "print(x.shape)"
      ],
      "metadata": {
        "colab": {
          "base_uri": "https://localhost:8080/"
        },
        "id": "5MlhZ_35z4Hf",
        "outputId": "af387a7a-e85b-4086-abed-b81e1f461edb"
      },
      "execution_count": 77,
      "outputs": [
        {
          "output_type": "stream",
          "name": "stdout",
          "text": [
            "[[1 2 3]\n",
            " [4 5 6]]\n",
            "<class 'numpy.ndarray'>\n",
            "(2, 3)\n"
          ]
        }
      ]
    },
    {
      "cell_type": "markdown",
      "source": [
        "이 경우에는 2d array라 할 수 있다. row(행)은 2개, column(열)은 3개이다. 따라서 x.shape는 (2,3)이다. 또, nd array에서 n의 값을 파악하기 가장 쉬운 방법은 print(x)를 했을 때 끝부분에 나오는 괄호의 갯수를 헤아리는 것이다. 이 경우에는 1 앞에 괄호가 2개, 6뒤에 괄호가 2개이므로 2d array임을 짐작할 수 있다."
      ],
      "metadata": {
        "id": "IX-Anw33z-C2"
      }
    },
    {
      "cell_type": "code",
      "source": [
        "x=np.ones([2,3])\n",
        "print(x)"
      ],
      "metadata": {
        "colab": {
          "base_uri": "https://localhost:8080/"
        },
        "id": "bMz_rjFZ0W3c",
        "outputId": "eab6de71-d06b-437d-c441-7d285ffe486b"
      },
      "execution_count": 78,
      "outputs": [
        {
          "output_type": "stream",
          "name": "stdout",
          "text": [
            "[[1. 1. 1.]\n",
            " [1. 1. 1.]]\n"
          ]
        }
      ]
    },
    {
      "cell_type": "markdown",
      "source": [
        "np.ones나 np.zeros는 동일한 작동 원리를 갖고 있다. 미리 괄호 속에 특정 array의 shape를 제공해주면, 그것을 1(ones)이나 0(zeros)으로 다 채운 형태를 도출해낸다."
      ],
      "metadata": {
        "id": "Zf578wFJ1EwN"
      }
    },
    {
      "cell_type": "code",
      "source": [
        "x = np.random.normal(0, 1, 100)\n",
        "print(x)\n",
        "plt.hist(x, bins=10)"
      ],
      "metadata": {
        "colab": {
          "base_uri": "https://localhost:8080/",
          "height": 669
        },
        "id": "nTFvhFnU19VG",
        "outputId": "38418bc9-b543-4387-94f0-cb1722bb8bd7"
      },
      "execution_count": 79,
      "outputs": [
        {
          "output_type": "stream",
          "name": "stdout",
          "text": [
            "[ 0.90462364 -0.24090538  0.71010679  0.35376052 -0.62677948 -0.8367019\n",
            "  0.67329638  0.05195506  0.57519381 -0.20211923 -1.23628377 -0.99948805\n",
            " -0.02189919 -1.36303071  1.65846712  0.04864848  0.5572711   0.08127083\n",
            "  0.93955589  0.63465844  1.29255967 -0.90900202 -0.0445545   1.10863001\n",
            " -0.18402128  2.62771633 -2.12126558  0.15722015 -1.60900376 -0.68850208\n",
            "  0.91624591 -0.39338137 -1.242707    0.05475721 -1.59154869  0.86170025\n",
            "  2.32687979 -1.58523679  0.66546623 -0.59957374  0.7737625  -1.61261087\n",
            " -0.83055339  0.08026249  1.09795174  0.94678247 -1.13020131  1.24513557\n",
            " -0.5246668  -0.54514775 -1.2344434   0.2467061  -0.9824223   0.16834\n",
            " -0.38261626  0.83628203 -0.41737136 -0.86159741 -0.08921058 -0.64354818\n",
            "  0.57797282  1.2130831   0.06054377  0.68447337 -0.2323862  -1.257217\n",
            "  1.19334187  0.22400784  0.17906913  0.09149483  0.05799175 -0.83914984\n",
            "  1.79050844  0.07743398  0.52883304 -0.52630031 -0.91498328  1.00924156\n",
            "  0.39701991 -1.36359238  1.53792904  0.81219674 -1.04591468  0.97612091\n",
            "  0.61735116 -0.03840065  0.40051227 -1.95090881  0.13249251 -0.7100905\n",
            " -0.69299111  0.14289682 -1.49877697 -0.14607295 -1.37509764  0.58620408\n",
            "  0.01998227 -0.23751603 -0.40759116  0.08238714]\n"
          ]
        },
        {
          "output_type": "execute_result",
          "data": {
            "text/plain": [
              "(array([ 2., 12., 11., 15., 25., 14., 13.,  5.,  1.,  2.]),\n",
              " array([-2.12126558, -1.64636739, -1.1714692 , -0.69657101, -0.22167282,\n",
              "         0.25322538,  0.72812357,  1.20302176,  1.67791995,  2.15281814,\n",
              "         2.62771633]),\n",
              " <a list of 10 Patch objects>)"
            ]
          },
          "metadata": {},
          "execution_count": 79
        },
        {
          "output_type": "display_data",
          "data": {
            "text/plain": [
              "<Figure size 432x288 with 1 Axes>"
            ],
            "image/png": "[encoded data removed]"
          },
          "metadata": {
            "needs_background": "light"
          }
        }
      ]
    },
    {
      "cell_type": "markdown",
      "source": [
        "np.random.normal(정규분포 난수 추출)의 첫번째 수로는 mean, 두번째 수로는 stdev, 마지막 수로는 난수의 개수를 의미한다. 이 경우 (0,1,100)이기에, 표준정규분포를 따르는 난수 100개를 추출하였고, 이를 히스토그램으로 표현하였다. 이때, 히스토그램을 자세히 살펴보면, 범주(통)이 10개이다. bins는 바로 이것을 의미한다. 이 10개의 bins안에 각각의 난수들이 들어가는 것이다. 또한 그래프 모양이 대체적으로 정규분포의 모습을 따르는 것을 확인할 수 있다."
      ],
      "metadata": {
        "id": "zQyKThSj2NzY"
      }
    },
    {
      "cell_type": "code",
      "source": [
        "plt.figure()\n",
        "\n",
        "theta1 = np.linspace(0, 2*np.pi, 50)\n",
        "s1 = np.sin(theta1)\n",
        "theta2 = np.linspace(0, 2*np.pi, 50) + np.pi/2\n",
        "s2 = np.sin(theta2)\n",
        "\n",
        "plt.subplot(2, 1, 1)\n",
        "plt.plot(theta1, s1, '.')\n",
        "plt.subplot(2, 1, 2)\n",
        "plt.plot(theta2, s2, '.')"
      ],
      "metadata": {
        "colab": {
          "base_uri": "https://localhost:8080/",
          "height": 283
        },
        "id": "55xvtZd42Mcz",
        "outputId": "2a898b19-36e4-4356-ddbb-7584a75799e2"
      },
      "execution_count": 84,
      "outputs": [
        {
          "output_type": "execute_result",
          "data": {
            "text/plain": [
              "[<matplotlib.lines.Line2D at 0x7f54a7451c10>]"
            ]
          },
          "metadata": {},
          "execution_count": 84
        },
        {
          "output_type": "display_data",
          "data": {
            "text/plain": [
              "<Figure size 432x288 with 2 Axes>"
            ],
            "image/png": "[encoded data removed]"
          },
          "metadata": {
            "needs_background": "light"
          }
        }
      ]
    },
    {
      "cell_type": "markdown",
      "source": [
        "theta1의 경우에는 0부터 2pi까지의 숫자를 등간격으로 50개 추출한 것이고, theta2의 경우에는 거기에 0.5pi를 더한 것이다. radian으로써의 각도 상으로는 theta1의 경우 0도~360도, theta2는 90도~450도이다. s1과 s2는 item이 50개인 1d array가 구성되었다."
      ],
      "metadata": {
        "id": "LgHzpUgM3sSm"
      }
    },
    {
      "cell_type": "code",
      "source": [
        "np.corrcoef(s1,s2)"
      ],
      "metadata": {
        "colab": {
          "base_uri": "https://localhost:8080/"
        },
        "id": "ig_B1h_Z4svm",
        "outputId": "10b01c06-9b18-4254-cfeb-c06acdacaa94"
      },
      "execution_count": 85,
      "outputs": [
        {
          "output_type": "execute_result",
          "data": {
            "text/plain": [
              "array([[1.00000000e+00, 9.25288548e-17],\n",
              "       [9.25288548e-17, 1.00000000e+00]])"
            ]
          },
          "metadata": {},
          "execution_count": 85
        }
      ]
    },
    {
      "cell_type": "markdown",
      "source": [
        "corrcoef는 상관관계를 구하는 것이다. 상관관계 r은 -1과 1사이이며, r>0일 경우 정비례, r<0일 경우 반비례이다. 또한 절댓값 r이 1에 가까울수록 상관관계가 높은 것을 의미한다. 이 경우에는 숫자가 총 4개가 도출된 것으로 보이지만 그렇지 않다. 우선, 1은 버리면 된다. 그리고 나머지 2개는 동일한 값이다. e-17은 10의 -17제곱을 의미하며, 이를 9.25와 곱하면 0에 매우 가까워진다. 그 값이 s1과 s2의 상관관계이다."
      ],
      "metadata": {
        "id": "D1joUZVM4xfV"
      }
    },
    {
      "cell_type": "markdown",
      "source": [
        ""
      ],
      "metadata": {
        "id": "Te-mS4WN2Ks2"
      }
    }
  ]
}